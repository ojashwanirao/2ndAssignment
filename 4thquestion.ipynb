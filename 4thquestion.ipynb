{
 "cells": [
  {
   "cell_type": "code",
   "execution_count": 2,
   "id": "a96fa809-d765-49d4-9e6d-a93d117aa1dc",
   "metadata": {},
   "outputs": [
    {
     "name": "stdout",
     "output_type": "stream",
     "text": [
      "Tuple: (10, 20, 30, 40, 50)\n",
      "Error: 'tuple' object does not support item assignment\n",
      "List: [10, 20, 30, 40, 50]\n",
      "Modified list: [10, 25, 30, 40, 50]\n",
      "List after appending 60: [10, 25, 30, 40, 50, 60]\n",
      "List after removing 30: [10, 25, 40, 50, 60]\n",
      "Tuple slice (1 to 4): (20, 30, 40)\n",
      "List slice (1 to 4): [25, 40, 50]\n"
     ]
    }
   ],
   "source": [
    "#4. Compare and contrast tuples and lists with examples. \n",
    "# Define a tuple\n",
    "my_tuple = (10, 20, 30, 40, 50)\n",
    "print(\"Tuple:\", my_tuple)\n",
    "\n",
    "# Attempt to modify a tuple (this will raise an error)\n",
    "try:\n",
    "    my_tuple[1] = 25\n",
    "except TypeError as e:\n",
    "    print(\"Error:\", e)\n",
    "\n",
    "# Define a list\n",
    "my_list = [10, 20, 30, 40, 50]\n",
    "print(\"List:\", my_list)\n",
    "\n",
    "# Modify the list\n",
    "my_list[1] = 25\n",
    "print(\"Modified list:\", my_list)\n",
    "\n",
    "# Add an element to the list\n",
    "my_list.append(60)\n",
    "print(\"List after appending 60:\", my_list)\n",
    "\n",
    "# Remove an element from the list\n",
    "my_list.remove(30)\n",
    "print(\"List after removing 30:\", my_list)\n",
    "\n",
    "# Slicing both tuple and list\n",
    "tuple_slice = my_tuple[1:4]\n",
    "list_slice = my_list[1:4]\n",
    "print(\"Tuple slice (1 to 4):\", tuple_slice)\n",
    "print(\"List slice (1 to 4):\", list_slice)"
   ]
  },
  {
   "cell_type": "code",
   "execution_count": null,
   "id": "6223cf8d-0789-48a2-8fa2-56ec06c9919e",
   "metadata": {},
   "outputs": [],
   "source": []
  },
  {
   "cell_type": "code",
   "execution_count": null,
   "id": "dd7d447c-f575-4060-94b7-f76559108194",
   "metadata": {},
   "outputs": [],
   "source": []
  }
 ],
 "metadata": {
  "kernelspec": {
   "display_name": "Python 3 (ipykernel)",
   "language": "python",
   "name": "python3"
  },
  "language_info": {
   "codemirror_mode": {
    "name": "ipython",
    "version": 3
   },
   "file_extension": ".py",
   "mimetype": "text/x-python",
   "name": "python",
   "nbconvert_exporter": "python",
   "pygments_lexer": "ipython3",
   "version": "3.10.8"
  }
 },
 "nbformat": 4,
 "nbformat_minor": 5
}
