{
 "cells": [
  {
   "cell_type": "code",
   "execution_count": 3,
   "id": "b9f9c1d0-aac1-4181-b6b2-23a0a05d804e",
   "metadata": {},
   "outputs": [
    {
     "name": "stdout",
     "output_type": "stream",
     "text": [
      "### Tuples ###\n",
      "1. Coordinate point: (10, 20)\n",
      "2. Location data: {(40.7128, -74.006): 'New York', (34.0522, -118.2437): 'Los Angeles'}\n",
      "3. Person record: ('John Doe', 30, ['Python', 'Data Science'])\n",
      "\n",
      "### Sets ###\n",
      "4. Unique fruits: {'apple', 'banana', 'cherry'}\n",
      "5. Unique numbers: {1, 2, 3, 4, 5}\n",
      "6. Union of set1 and set2: {1, 2, 3, 4, 5, 6}\n",
      "7. Intersection of set1 and set2: {3, 4}\n",
      "8. Difference of set1 and set2: {1, 2}\n",
      "9. Symmetric difference of set1 and set2: {1, 2, 5, 6}\n",
      "10. Is 3 in set1?: True\n"
     ]
    }
   ],
   "source": [
    "#6. Discuss the use cases of tuples and sets in python programming.\n",
    "# Tuples\n",
    "print(\"### Tuples ###\")\n",
    "\n",
    "# Storing a fixed collection of coordinates\n",
    "point = (10, 20)\n",
    "print(\"1. Coordinate point:\", point)\n",
    "\n",
    "# Tuple as a key in a dictionary\n",
    "location_data = {\n",
    "    (40.7128, -74.0060): \"New York\",\n",
    "    (34.0522, -118.2437): \"Los Angeles\"\n",
    "}\n",
    "print(\"2. Location data:\", location_data)\n",
    "\n",
    "# Heterogeneous data in a tuple\n",
    "person = (\"John Doe\", 30, [\"Python\", \"Data Science\"])\n",
    "print(\"3. Person record:\", person)\n",
    "\n",
    "# Sets\n",
    "print(\"\\n### Sets ###\")\n",
    "\n",
    "# Storing unique elements\n",
    "fruits = {\"apple\", \"banana\", \"cherry\", \"apple\"}\n",
    "print(\"4. Unique fruits:\", fruits)  \n",
    "\n",
    "# Removing duplicates from a list\n",
    "numbers = [1, 2, 2, 3, 4, 4, 5]\n",
    "unique_numbers = set(numbers)\n",
    "print(\"5. Unique numbers:\", unique_numbers)\n",
    "\n",
    "# Set operations\n",
    "set1 = {1, 2, 3, 4}\n",
    "set2 = {3, 4, 5, 6}\n",
    "union_set = set1 | set2\n",
    "intersection_set = set1 & set2\n",
    "difference_set = set1 - set2\n",
    "symmetric_difference_set = set1 ^ set2\n",
    "\n",
    "print(\"6. Union of set1 and set2:\", union_set)\n",
    "print(\"7. Intersection of set1 and set2:\", intersection_set)\n",
    "print(\"8. Difference of set1 and set2:\", difference_set)\n",
    "print(\"9. Symmetric difference of set1 and set2:\", symmetric_difference_set)\n",
    "\n",
    "# Membership testing\n",
    "print(\"10. Is 3 in set1?:\", 3 in set1)"
   ]
  },
  {
   "cell_type": "code",
   "execution_count": null,
   "id": "f0b0b223-263c-4963-870d-823623a7e3d6",
   "metadata": {},
   "outputs": [],
   "source": []
  }
 ],
 "metadata": {
  "kernelspec": {
   "display_name": "Python 3 (ipykernel)",
   "language": "python",
   "name": "python3"
  },
  "language_info": {
   "codemirror_mode": {
    "name": "ipython",
    "version": 3
   },
   "file_extension": ".py",
   "mimetype": "text/x-python",
   "name": "python",
   "nbconvert_exporter": "python",
   "pygments_lexer": "ipython3",
   "version": "3.10.8"
  }
 },
 "nbformat": 4,
 "nbformat_minor": 5
}
