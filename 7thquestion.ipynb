{
 "cells": [
  {
   "cell_type": "code",
   "execution_count": 3,
   "id": "7d0bfe19-23e3-45ba-8154-cc5f1c3f1e47",
   "metadata": {},
   "outputs": [
    {
     "name": "stdout",
     "output_type": "stream",
     "text": [
      "1. After adding items: {'name': 'John Doe', 'age': 30, 'city': 'New York'}\n",
      "2. After modifying age: {'name': 'John Doe', 'age': 31, 'city': 'New York'}\n",
      "3. After deleting city: {'name': 'John Doe', 'age': 31}\n",
      "4. After popping age (value returned): 31\n",
      "5. After popping age (remaining dict): {'name': 'John Doe'}\n",
      "6. After adding more items: {'name': 'John Doe', 'profession': 'Engineer', 'country': 'USA'}\n",
      "7. After popitem() (last item removed): ('country', 'USA')\n",
      "8. After popitem() (remaining dict): {'name': 'John Doe', 'profession': 'Engineer'}\n",
      "9. After clearing all items: {}\n"
     ]
    }
   ],
   "source": [
    "#7. Describe how to add, modify, and delete items in a dictionary with examples.\n",
    "# Initialize an empty dictionary\n",
    "my_dict = {}\n",
    "\n",
    "# Add items to the dictionary\n",
    "my_dict['name'] = 'John Doe'\n",
    "my_dict['age'] = 30\n",
    "my_dict['city'] = 'New York'\n",
    "print(\"1. After adding items:\", my_dict)\n",
    "\n",
    "# Modify items in the dictionary\n",
    "my_dict['age'] = 31\n",
    "print(\"2. After modifying age:\", my_dict)\n",
    "\n",
    "# Delete an item using del statement\n",
    "del my_dict['city']\n",
    "print(\"3. After deleting city:\", my_dict)\n",
    "\n",
    "# Delete an item using pop() method\n",
    "age = my_dict.pop('age')\n",
    "print(\"4. After popping age (value returned):\", age)\n",
    "print(\"5. After popping age (remaining dict):\", my_dict)\n",
    "\n",
    "# Add more items\n",
    "my_dict['profession'] = 'Engineer'\n",
    "my_dict['country'] = 'USA'\n",
    "print(\"6. After adding more items:\", my_dict)\n",
    "\n",
    "# Delete the last item using popitem() method\n",
    "last_item = my_dict.popitem()\n",
    "print(\"7. After popitem() (last item removed):\", last_item)\n",
    "print(\"8. After popitem() (remaining dict):\", my_dict)\n",
    "\n",
    "\n",
    "# Clear all items\n",
    "my_dict.clear()\n",
    "print(\"9. After clearing all items:\", my_dict)"
   ]
  },
  {
   "cell_type": "code",
   "execution_count": null,
   "id": "17b781a4-e026-4977-9a65-1329e77a7d99",
   "metadata": {},
   "outputs": [],
   "source": []
  }
 ],
 "metadata": {
  "kernelspec": {
   "display_name": "Python 3 (ipykernel)",
   "language": "python",
   "name": "python3"
  },
  "language_info": {
   "codemirror_mode": {
    "name": "ipython",
    "version": 3
   },
   "file_extension": ".py",
   "mimetype": "text/x-python",
   "name": "python",
   "nbconvert_exporter": "python",
   "pygments_lexer": "ipython3",
   "version": "3.10.8"
  }
 },
 "nbformat": 4,
 "nbformat_minor": 5
}
