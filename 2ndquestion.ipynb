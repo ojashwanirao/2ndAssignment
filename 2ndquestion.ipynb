{
 "cells": [
  {
   "cell_type": "code",
   "execution_count": 4,
   "id": "441a1662-dd7c-4273-b56a-c29fa069a72e",
   "metadata": {},
   "outputs": [
    {
     "name": "stdout",
     "output_type": "stream",
     "text": [
      "1. First element: 1\n",
      "2. Last element: True\n",
      "3. Modified list: [1, 'banana', 3.14, [2, 4, 6], True]\n",
      "4. List after appending: [1, 'banana', 3.14, [2, 4, 6], True, 'new item']\n",
      "5. List after removing 3.14: [1, 'banana', [2, 4, 6], True, 'new item']\n",
      "6. Access nested list element: 4\n",
      "7. Length of the list: 5\n"
     ]
    }
   ],
   "source": [
    "#2. Example the key feature of lists in python.\n",
    "# Create a list with different types of elements\n",
    "my_list = [1, \"apple\", 3.14, [2, 4, 6], True]\n",
    "\n",
    "# Access elements by index\n",
    "print(\"1. First element:\", my_list[0]) \n",
    "print(\"2. Last element:\", my_list[-1])  \n",
    "\n",
    "# Modify elements\n",
    "my_list[1] = \"banana\"\n",
    "print(\"3. Modified list:\", my_list)  \n",
    "\n",
    "# Add elements\n",
    "my_list.append(\"new item\")\n",
    "print(\"4. List after appending:\", my_list)  \n",
    "\n",
    "# Remove elements\n",
    "my_list.remove(3.14)\n",
    "print(\"5. List after removing 3.14:\", my_list)  \n",
    "\n",
    "# Access nested list elements\n",
    "print(\"6. Access nested list element:\", my_list[2][1]) \n",
    "\n",
    "# List length\n",
    "print(\"7. Length of the list:\", len(my_list))\n"
   ]
  },
  {
   "cell_type": "code",
   "execution_count": null,
   "id": "9ea96922-a3dd-4b36-aa83-322f337e2fb0",
   "metadata": {},
   "outputs": [],
   "source": []
  },
  {
   "cell_type": "code",
   "execution_count": null,
   "id": "ccff368c-f6b7-4d8d-b380-a7a9f87dc8f2",
   "metadata": {},
   "outputs": [],
   "source": []
  }
 ],
 "metadata": {
  "kernelspec": {
   "display_name": "Python 3 (ipykernel)",
   "language": "python",
   "name": "python3"
  },
  "language_info": {
   "codemirror_mode": {
    "name": "ipython",
    "version": 3
   },
   "file_extension": ".py",
   "mimetype": "text/x-python",
   "name": "python",
   "nbconvert_exporter": "python",
   "pygments_lexer": "ipython3",
   "version": "3.10.8"
  }
 },
 "nbformat": 4,
 "nbformat_minor": 5
}
