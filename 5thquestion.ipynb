{
 "cells": [
  {
   "cell_type": "code",
   "execution_count": 4,
   "id": "4f47f196-3ba5-4251-82d6-983575d5453d",
   "metadata": {},
   "outputs": [
    {
     "name": "stdout",
     "output_type": "stream",
     "text": [
      "1. Set1 after adding 6: {1, 2, 3, 4, 5, 6}\n",
      "2. Set1 after removing 2: {1, 3, 4, 5, 6}\n",
      "3. Set1 after discarding 10 (not present): {1, 3, 4, 5, 6}\n",
      "4. Union of set1 and set2: {1, 3, 4, 5, 6, 7, 8}\n",
      "5. Intersection of set1 and set2: {4, 5, 6}\n",
      "6. Difference of set1 and set2: {1, 3}\n",
      "7. Symmetric difference of set1 and set2: {1, 3, 7, 8}\n",
      "8. Set1 after clearing: set()\n"
     ]
    }
   ],
   "source": [
    "#5. Describe the key feature of sets and provide examples of their use.\n",
    "# Define two sets\n",
    "set1 = {1, 2, 3, 4, 5}\n",
    "set2 = {4, 5, 6, 7, 8}\n",
    "\n",
    "# Add an element to set1\n",
    "set1.add(6)\n",
    "print(\"1. Set1 after adding 6:\", set1) \n",
    "\n",
    "# Remove an element from set1\n",
    "set1.remove(2)\n",
    "print(\"2. Set1 after removing 2:\", set1)  \n",
    "\n",
    "# Discard an element from set1 (no error if element not present)\n",
    "set1.discard(10)\n",
    "print(\"3. Set1 after discarding 10 (not present):\", set1)  \n",
    "\n",
    "# Union of set1 and set2\n",
    "union_set = set1 | set2\n",
    "print(\"4. Union of set1 and set2:\", union_set)  \n",
    "\n",
    "# Intersection of set1 and set2\n",
    "intersection_set = set1 & set2\n",
    "print(\"5. Intersection of set1 and set2:\", intersection_set)  \n",
    "\n",
    "# Difference of set1 and set2\n",
    "difference_set = set1 - set2\n",
    "print(\"6. Difference of set1 and set2:\", difference_set)  \n",
    "\n",
    "# Symmetric difference of set1 and set2\n",
    "symmetric_difference_set = set1 ^ set2\n",
    "print(\"7. Symmetric difference of set1 and set2:\", symmetric_difference_set)  \n",
    "\n",
    "# Clear all elements from set1\n",
    "set1.clear()\n",
    "print(\"8. Set1 after clearing:\", set1)  "
   ]
  },
  {
   "cell_type": "code",
   "execution_count": null,
   "id": "d8d2ee6b-b57f-4b82-9567-8ba97f3a28b5",
   "metadata": {},
   "outputs": [],
   "source": []
  }
 ],
 "metadata": {
  "kernelspec": {
   "display_name": "Python 3 (ipykernel)",
   "language": "python",
   "name": "python3"
  },
  "language_info": {
   "codemirror_mode": {
    "name": "ipython",
    "version": 3
   },
   "file_extension": ".py",
   "mimetype": "text/x-python",
   "name": "python",
   "nbconvert_exporter": "python",
   "pygments_lexer": "ipython3",
   "version": "3.10.8"
  }
 },
 "nbformat": 4,
 "nbformat_minor": 5
}
