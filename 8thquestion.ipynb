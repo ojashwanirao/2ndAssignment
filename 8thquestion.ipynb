{
 "cells": [
  {
   "cell_type": "code",
   "execution_count": 3,
   "id": "bab7f84e-df4d-4724-be83-2f099cae7cc6",
   "metadata": {},
   "outputs": [
    {
     "name": "stdout",
     "output_type": "stream",
     "text": [
      "1. Dictionary with immutable keys: {'name': 'Alice', 42: 'Answer to the Ultimate Question', (1, 2, 3): 'Tuple as key'}\n",
      "2. Error when using a mutable key (list): unhashable type: 'list'\n",
      "3. Accessing value with tuple key: Tuple as key\n",
      "4. Initial hash of tuple_key: 529344067295497451\n",
      "5. Hash of the new tuple_key (4, 5, 6): 5978594976881860246\n",
      "6. Hash of the original key (1, 2, 3): 529344067295497451\n"
     ]
    }
   ],
   "source": [
    "#8. Discuss the importance of dictionary keys being immutable and provide examples.\n",
    "# Define a dictionary with immutable keys\n",
    "my_dict = {\n",
    "    'name': 'Alice',\n",
    "    42: 'Answer to the Ultimate Question',\n",
    "    (1, 2, 3): 'Tuple as key'\n",
    "}\n",
    "print(\"1. Dictionary with immutable keys:\", my_dict)\n",
    "\n",
    "# Attempting to use a mutable key (list) would raise a TypeError\n",
    "try:\n",
    "    my_dict[[1, 2, 3]] = 'List as key'\n",
    "except TypeError as e:\n",
    "    print(\"2. Error when using a mutable key (list):\", e)\n",
    "\n",
    "# Demonstrating the reliability of immutable keys\n",
    "tuple_key = (1, 2, 3)\n",
    "print(\"3. Accessing value with tuple key:\", my_dict[tuple_key])  \n",
    "\n",
    "# Immutable keys ensure consistent hash value\n",
    "initial_hash = hash(tuple_key)\n",
    "print(\"4. Initial hash of tuple_key:\", initial_hash)\n",
    "\n",
    "# Even after reassignment, the tuple key's hash remains the same\n",
    "tuple_key = (4, 5, 6) \n",
    "print(\"5. Hash of the new tuple_key (4, 5, 6):\", hash(tuple_key)) \n",
    "\n",
    "# Original key's hash value in the dictionary remains unchanged\n",
    "print(\"6. Hash of the original key (1, 2, 3):\", hash((1, 2, 3)))\n"
   ]
  },
  {
   "cell_type": "code",
   "execution_count": null,
   "id": "54bcc07f-c9c5-4762-8c4a-29c124243456",
   "metadata": {},
   "outputs": [],
   "source": []
  }
 ],
 "metadata": {
  "kernelspec": {
   "display_name": "Python 3 (ipykernel)",
   "language": "python",
   "name": "python3"
  },
  "language_info": {
   "codemirror_mode": {
    "name": "ipython",
    "version": 3
   },
   "file_extension": ".py",
   "mimetype": "text/x-python",
   "name": "python",
   "nbconvert_exporter": "python",
   "pygments_lexer": "ipython3",
   "version": "3.10.8"
  }
 },
 "nbformat": 4,
 "nbformat_minor": 5
}
