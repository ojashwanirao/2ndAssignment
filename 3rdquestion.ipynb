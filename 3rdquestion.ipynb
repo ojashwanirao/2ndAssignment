{
 "cells": [
  {
   "cell_type": "code",
   "execution_count": 3,
   "id": "eedfbc7c-ee86-41d9-85ec-8e0fa6cbb797",
   "metadata": {},
   "outputs": [
    {
     "name": "stdout",
     "output_type": "stream",
     "text": [
      "1. First element: 10\n",
      "2. Last element: 80\n",
      "3. Sub list (1 to 4): [20, 30, 40, 50]\n",
      "4. List after modification: [10, 20, 35, 40, 50, 60, 70, 80]\n",
      "5. List after appending 90: [10, 20, 35, 40, 50, 60, 70, 80, 90]\n",
      "6. List after inserting 25 at index 3: [10, 20, 35, 25, 40, 50, 60, 70, 80, 90]\n",
      "7. List after extending: [10, 20, 35, 25, 40, 50, 60, 70, 80, 90, 100, 110]\n",
      "8. List after removing 25: [10, 20, 35, 40, 50, 60, 70, 80, 90, 100, 110]\n",
      "9. List after popping index 3: [10, 20, 35, 50, 60, 70, 80, 90, 100, 110]\n",
      "10. Removed element: 40\n",
      "11. List after clearing: []\n"
     ]
    }
   ],
   "source": [
    "#3. Describe how to access, modify, delete elements in a lists with examples.\n",
    "# Define a list\n",
    "my_list = [10, 20, 30, 40, 50, 60, 70, 80]\n",
    "\n",
    "# Access elements by index\n",
    "first_element = my_list[0]  \n",
    "last_element = my_list[-1]  \n",
    "print(\"1. First element:\", first_element)  \n",
    "print(\"2. Last element:\", last_element)  \n",
    "\n",
    "# Access a range of elements using slicing\n",
    "sub_list = my_list[1:5]  \n",
    "print(\"3. Sub list (1 to 4):\", sub_list)  \n",
    "\n",
    "# Modify elements\n",
    "my_list[2] = 35 \n",
    "print(\"4. List after modification:\", my_list)  \n",
    "\n",
    "# Append an element\n",
    "my_list.append(90)\n",
    "print(\"5. List after appending 90:\", my_list)  \n",
    "\n",
    "# Insert an element at a specific position\n",
    "my_list.insert(3, 25)  \n",
    "print(\"6. List after inserting 25 at index 3:\", my_list)  \n",
    "\n",
    "# Extend the list with multiple elements\n",
    "my_list.extend([100, 110])\n",
    "print(\"7. List after extending:\", my_list)  \n",
    "\n",
    "# Remove an element by value\n",
    "my_list.remove(25)\n",
    "print(\"8. List after removing 25:\", my_list)  \n",
    "\n",
    "# Remove an element by index\n",
    "removed_element = my_list.pop(3) \n",
    "print(\"9. List after popping index 3:\", my_list)  \n",
    "print(\"10. Removed element:\", removed_element)  \n",
    "\n",
    "# Clear the entire list\n",
    "my_list.clear()\n",
    "print(\"11. List after clearing:\", my_list)"
   ]
  },
  {
   "cell_type": "code",
   "execution_count": null,
   "id": "7cea035f-0f01-4a42-904e-df6062b2400e",
   "metadata": {},
   "outputs": [],
   "source": []
  },
  {
   "cell_type": "code",
   "execution_count": null,
   "id": "9fd3a777-63e9-4c69-b91e-64795d43bcad",
   "metadata": {},
   "outputs": [],
   "source": []
  }
 ],
 "metadata": {
  "kernelspec": {
   "display_name": "Python 3 (ipykernel)",
   "language": "python",
   "name": "python3"
  },
  "language_info": {
   "codemirror_mode": {
    "name": "ipython",
    "version": 3
   },
   "file_extension": ".py",
   "mimetype": "text/x-python",
   "name": "python",
   "nbconvert_exporter": "python",
   "pygments_lexer": "ipython3",
   "version": "3.10.8"
  }
 },
 "nbformat": 4,
 "nbformat_minor": 5
}
