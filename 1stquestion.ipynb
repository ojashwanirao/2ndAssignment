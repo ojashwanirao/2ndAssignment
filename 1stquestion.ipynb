{
 "cells": [
  {
   "cell_type": "code",
   "execution_count": 1,
   "id": "196ebfa3-c507-4ea4-ac0f-49e84ae4f4b6",
   "metadata": {},
   "outputs": [
    {
     "name": "stdout",
     "output_type": "stream",
     "text": [
      "1. Slicing from index 0 to 5: Hello\n",
      "2. Slicing with step 2: Hlo ol\n",
      "3. Slicing from index -6 to -1: World\n",
      "4. Slicing from start to end: Hello, World!\n",
      "5. Slicing with negative step: !dlroW ,olleH\n"
     ]
    }
   ],
   "source": [
    "#1. Discuss string slicing and provide examples.\n",
    " # Define a string\n",
    "text = \"Hello, World!\"\n",
    "\n",
    "# Basic slicing\n",
    "print(\"1. Slicing from index 0 to 5:\", text[0:5])  \n",
    "# Slicing with step\n",
    "print(\"2. Slicing with step 2:\", text[0:12:2])  \n",
    "# Slicing with negative indices\n",
    "print(\"3. Slicing from index -6 to -1:\", text[-6:-1])  \n",
    "\n",
    "# Omitting start and end indices\n",
    "print(\"4. Slicing from start to end:\", text[:])  \n",
    "# Slicing with negative step\n",
    "print(\"5. Slicing with negative step:\", text[::-1])  "
   ]
  },
  {
   "cell_type": "code",
   "execution_count": null,
   "id": "c0ca3479-e16d-4659-8735-cadfd2d8ec8d",
   "metadata": {},
   "outputs": [],
   "source": []
  },
  {
   "cell_type": "code",
   "execution_count": null,
   "id": "0e9960a5-ab5b-4b4a-974c-d59092dce502",
   "metadata": {},
   "outputs": [],
   "source": []
  }
 ],
 "metadata": {
  "kernelspec": {
   "display_name": "Python 3 (ipykernel)",
   "language": "python",
   "name": "python3"
  },
  "language_info": {
   "codemirror_mode": {
    "name": "ipython",
    "version": 3
   },
   "file_extension": ".py",
   "mimetype": "text/x-python",
   "name": "python",
   "nbconvert_exporter": "python",
   "pygments_lexer": "ipython3",
   "version": "3.10.8"
  }
 },
 "nbformat": 4,
 "nbformat_minor": 5
}
